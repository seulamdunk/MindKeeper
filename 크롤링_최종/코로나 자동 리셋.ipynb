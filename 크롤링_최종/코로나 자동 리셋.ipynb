{
 "cells": [
  {
   "cell_type": "code",
   "execution_count": null,
   "id": "b96a6eb3",
   "metadata": {
    "scrolled": true
   },
   "outputs": [],
   "source": [
    "from selenium import webdriver\n",
    "from PIL import Image\n",
    "from io import BytesIO\n",
    "import schedule \n",
    "import time\n",
    "\n",
    "if 1==1:\n",
    "    \n",
    "    def job(): \n",
    "        url = \"http://ncov.mohw.go.kr/bdBoardList_Real.do\"\n",
    "        options = webdriver.ChromeOptions()\n",
    "        options.add_argument('window-size=1500x1980')\n",
    "\n",
    "        driver = webdriver.Chrome(\"./webdriver/chromedriver.exe\")\n",
    "\n",
    "        driver.get(url)\n",
    "\n",
    "        cnt = 0\n",
    "        elements=driver.find_elements_by_tag_name('canvas')\n",
    "        print(elements)\n",
    "        location = {'x':0, 'y':0}\n",
    "\n",
    "        for element in elements[:5]:\n",
    "            driver.execute_script(\"arguments[0].scrollIntoView();\", element)\n",
    "            location = {'x':0, 'y':0}\n",
    "            size = element.size\n",
    "            png = driver.get_screenshot_as_png()\n",
    "            im = Image.open(BytesIO(png))\n",
    "            left = location['x']\n",
    "            top = location['y']\n",
    "            right = location['x'] + size['width'] + 30\n",
    "            bottom = location['y'] + size['height'] + 25\n",
    "            im = im.crop((left, top, right, bottom))\n",
    "            try:\n",
    "                im.save('C:/MindKeeper/mind/src/main/resources/static/img/코로나 현황 크롤링' + str(cnt) + '.png')  # saves new cropped image\n",
    "            except:\n",
    "                break\n",
    "            cnt += 1\n",
    "        driver.quit()\n",
    "        print(\"출력함\")\n",
    "\n",
    "    schedule.every().day.at(\"13:15\").do(job)\n",
    "\n",
    "\n",
    "    while True: \n",
    "        schedule.run_pending() \n",
    "        time.sleep(1)\n",
    "\"\"\"\n",
    "except:\n",
    "    print(\"프로그램이 안됨\")\"\"\"\n",
    "\n"
   ]
  },
  {
   "cell_type": "code",
   "execution_count": null,
   "id": "c74981f1",
   "metadata": {},
   "outputs": [],
   "source": [
    "#!pip install schedule"
   ]
  },
  {
   "cell_type": "code",
   "execution_count": null,
   "id": "b45f1983",
   "metadata": {},
   "outputs": [],
   "source": [
    "#  # 스케줄 사용법\n",
    "    \n",
    "# import schedule \n",
    "# import time \n",
    "\n",
    "# def job(): \n",
    "#     print(\"잘 됨\")\n",
    "        \n",
    "#          # 10초에 한번씩 실행 \n",
    "# schedule.every(10).seconds.do(job) \n",
    "# #         # 10분에 한번씩 실행 \n",
    "# #         schedule.every(10).minutes.do(job) \n",
    "# #         # 매 시간 실행 s\n",
    "# #         shedule.every().hour.do(job) \n",
    "# #         # 매일 10:30 에 실행 \n",
    "# #         schedule.every().day.at(\"10:30\").do(job) ㅑ\n",
    "# #         # 매주 월요일 실행 \n",
    "# #         schedule.every().monday.do(job) \n",
    "# #         # 매주 수요일 13:15 에 실행 \n",
    "# #         schedule.every().wednesday.at(\"13:15\").do(job) \n",
    "        \n",
    "# while True: \n",
    "#     schedule.run_pending() \n",
    "#     time.sleep(1)\n",
    "\n"
   ]
  },
  {
   "cell_type": "code",
   "execution_count": null,
   "id": "acd77e93",
   "metadata": {},
   "outputs": [],
   "source": []
  }
 ],
 "metadata": {
  "kernelspec": {
   "display_name": "Python 3",
   "language": "python",
   "name": "python3"
  },
  "language_info": {
   "codemirror_mode": {
    "name": "ipython",
    "version": 3
   },
   "file_extension": ".py",
   "mimetype": "text/x-python",
   "name": "python",
   "nbconvert_exporter": "python",
   "pygments_lexer": "ipython3",
   "version": "3.8.8"
  }
 },
 "nbformat": 4,
 "nbformat_minor": 5
}
