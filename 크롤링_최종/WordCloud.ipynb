{
 "cells": [
  {
   "cell_type": "code",
   "execution_count": 1,
   "id": "b646ded1",
   "metadata": {
    "scrolled": true
   },
   "outputs": [
    {
     "name": "stdout",
     "output_type": "stream",
     "text": [
      "['네, 안녕하세요.', '반갑습니다.']\n"
     ]
    }
   ],
   "source": [
    "from konlpy.tag import Kkma\n",
    "from konlpy.utils import pprint\n",
    "kkma = Kkma()\n",
    "pprint(kkma.sentences(u'네, 안녕하세요. 반갑습니다.'))"
   ]
  },
  {
   "cell_type": "code",
   "execution_count": 2,
   "id": "a12628f6",
   "metadata": {},
   "outputs": [],
   "source": [
    "#! pip install C:\\python\\JPype1-1.3.0-cp38-cp38-win_amd64.whl"
   ]
  },
  {
   "cell_type": "code",
   "execution_count": 3,
   "id": "46ecb196",
   "metadata": {},
   "outputs": [],
   "source": [
    "#!pip install konlpy"
   ]
  },
  {
   "cell_type": "code",
   "execution_count": 4,
   "id": "2dd86667",
   "metadata": {},
   "outputs": [],
   "source": [
    "#!pip install JPype1-1.3.0-cp38-cp38-win_amd64.whl"
   ]
  },
  {
   "cell_type": "code",
   "execution_count": 5,
   "id": "e4fa9116",
   "metadata": {},
   "outputs": [],
   "source": [
    "#!pip install pymysql"
   ]
  },
  {
   "cell_type": "code",
   "execution_count": 6,
   "id": "e1115d2b",
   "metadata": {},
   "outputs": [
    {
     "name": "stdout",
     "output_type": "stream",
     "text": [
      "(('ㅁㄴㅇㅁㄴㅇㄴㅁㅇ',), ('아마두 갈거야',), ('asdsadsadasd123123123',), ('아마두 갈거야',), ('최종 상태보기 글(수정)',), ('조원이 압력을 많이 줍니다.',), ('화장실 가는 것도 통제하는 팀원 어떻게 해야하나요',), ('다이어트 너무 힘들어요 ㅠㅠ',), ('주말 근무 강요하는 팀원 어떻게 해야합니까? 도와주세요',), ('다시작성버튼 수정하기로 바꿔주세요...',), ('디저트가 너무 먹고싶네요..',), ('none으로 들어간거는 어떻게 삭제해요?',), ('커밋을 이상하게 하는 팀원이 있어요',), ('최종 상태보기 글(수정) 오늘 날짜 이제 들어감',), ('날짜는 왜 안들어가니???ㅠㅠ',), ('정말 연속으로 작성해보기(수정됨)',), ('데이터 용 게시판 글쓰기',), ('현재 시간 9시 37분 혼자 남아서 하는중',), ('얼마나 한걸까?',), ('도대체 얼마나 더 해야할까?',), ('끝나기는 할까요???',), ('오늘도 화이팅!!!',), ('익명상담게시판',))\n",
      "<class 'tuple'>\n",
      "('수정', 4)\n",
      "('아마', 2)\n",
      "('최종', 2)\n",
      "('상태', 2)\n",
      "('보기', 2)\n",
      "('작성', 2)\n",
      "('오늘', 2)\n",
      "('날짜', 2)\n",
      "('게시판', 2)\n",
      "('얼마나', 2)\n",
      "('조원', 1)\n",
      "('압력', 1)\n",
      "('화장실', 1)\n",
      "('통제', 1)\n",
      "('다이어트', 1)\n",
      "('주말', 1)\n",
      "('근무', 1)\n",
      "('강요', 1)\n",
      "('해', 1)\n",
      "('야합', 1)\n",
      "('다시', 1)\n",
      "('버튼', 1)\n",
      "('디저트', 1)\n",
      "('삭제', 1)\n",
      "('커밋', 1)\n",
      "('이제', 1)\n",
      "('정말', 1)\n",
      "('연속', 1)\n",
      "('데이터', 1)\n",
      "('글쓰기', 1)\n",
      "('현재', 1)\n",
      "('시간', 1)\n",
      "('혼자', 1)\n",
      "('남아', 1)\n",
      "('도대체', 1)\n",
      "('요', 1)\n",
      "('화이팅', 1)\n",
      "('익명', 1)\n",
      "('상담', 1)\n"
     ]
    }
   ],
   "source": [
    "from konlpy.tag import Okt\n",
    "from collections import Counter\n",
    "import pandas as pd\n",
    "import pymysql\n",
    "\n",
    "\n",
    "\n",
    "#Mysqldb에서 불러오기 \n",
    "\n",
    "conn = pymysql.connect(\n",
    "    user=\"root\",\n",
    "    passwd=\"1234\",\n",
    "    port=3306,\n",
    "    host=\"180.67.197.229\",\n",
    "    db=\"mindDB\",\n",
    "    charset=\"utf8\"\n",
    ")\n",
    "\n",
    "curs=conn.cursor()\n",
    "\n",
    "temp = curs.execute(\"select no_name_title from noname\")\n",
    "temp = curs.fetchall()\n",
    "print(temp)\n",
    "print(type(temp))\n",
    "conn.commit()\n",
    "conn.close()\n",
    "\n",
    "\n",
    "\n",
    "\n",
    "words=[]\n",
    "for i in temp:\n",
    "    #print(i[0])\n",
    "    words.append(i[0])\n",
    "    \n",
    "#print(words)\n",
    "\n",
    "#okt 객체 생성\n",
    "okt=Okt()\n",
    "sentents=\"\"\n",
    "for r in words:\n",
    "    sentents = sentents + r + \" \"\n",
    "\n",
    "#rint(sentents)\n",
    "noun = okt.nouns(sentents)\n",
    "for i,v in enumerate(noun):\n",
    "    if len(v)<2:\n",
    "        noun.pop(i)\n",
    "\n",
    "count = Counter(noun)\n",
    "\n",
    "#명사 빈도 카운트\n",
    "noun_list = count.most_common(100)\n",
    "for v in noun_list:\n",
    "    print(v)"
   ]
  },
  {
   "cell_type": "code",
   "execution_count": 7,
   "id": "141e1788",
   "metadata": {},
   "outputs": [
    {
     "data": {
      "text/plain": [
       "<wordcloud.wordcloud.WordCloud at 0x175e93aeb80>"
      ]
     },
     "execution_count": 7,
     "metadata": {},
     "output_type": "execute_result"
    }
   ],
   "source": [
    "import sys\n",
    "from wordcloud import WordCloud\n",
    "import matplotlib.pyplot as plt\n",
    "\n",
    "wc = WordCloud(font_path = \"c:/Windows/Fonts/malgun.ttf\",\n",
    "              background_color=\"white\",\n",
    "              width=1000, \n",
    "              height=500, \n",
    "              max_words=100,\n",
    "              max_font_size=300)\n",
    "\n",
    "cloud = wc.generate_from_frequencies(dict(noun_list))\n",
    "cloud.to_file(\"C:/MindKeeper/mind/src/main/resources/static/img/cloud.png\")\n",
    "\n",
    "# # plt.figure(figsize=(10, 8))\n",
    "# # plt.axis('off')\n",
    "# # plt.imshow(cloud)\n",
    "# # plt.show()                          \n",
    "# plt.savefig('cloud.png')\n",
    "\n",
    "\n",
    "\n"
   ]
  },
  {
   "cell_type": "code",
   "execution_count": 8,
   "id": "0049352b",
   "metadata": {},
   "outputs": [],
   "source": [
    "#!pip install C:\\Users\\kosmo\\Downloads\\wordcloud-1.8.1-cp38-cp38-win_amd64.whl"
   ]
  }
 ],
 "metadata": {
  "kernelspec": {
   "display_name": "Python 3",
   "language": "python",
   "name": "python3"
  },
  "language_info": {
   "codemirror_mode": {
    "name": "ipython",
    "version": 3
   },
   "file_extension": ".py",
   "mimetype": "text/x-python",
   "name": "python",
   "nbconvert_exporter": "python",
   "pygments_lexer": "ipython3",
   "version": "3.8.8"
  }
 },
 "nbformat": 4,
 "nbformat_minor": 5
}
